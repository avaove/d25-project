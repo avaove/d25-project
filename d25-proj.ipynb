{
 "cells": [
  {
   "attachments": {},
   "cell_type": "markdown",
   "metadata": {},
   "source": [
    "# Analyzing Reddit's Sentimental Shifts during COVID-19"
   ]
  },
  {
   "cell_type": "code",
   "execution_count": 1,
   "metadata": {},
   "outputs": [
    {
     "name": "stderr",
     "output_type": "stream",
     "text": [
      "2023-11-23 20:25:33.305373: I tensorflow/core/platform/cpu_feature_guard.cc:193] This TensorFlow binary is optimized with oneAPI Deep Neural Network Library (oneDNN) to use the following CPU instructions in performance-critical operations:  AVX2 FMA\n",
      "To enable them in other operations, rebuild TensorFlow with the appropriate compiler flags.\n",
      "2023-11-23 20:25:34.103288: E tensorflow/stream_executor/cuda/cuda_blas.cc:2981] Unable to register cuBLAS factory: Attempting to register factory for plugin cuBLAS when one has already been registered\n",
      "2023-11-23 20:25:35.404541: W tensorflow/stream_executor/platform/default/dso_loader.cc:64] Could not load dynamic library 'libnvinfer.so.7'; dlerror: libnvinfer.so.7: cannot open shared object file: No such file or directory\n",
      "2023-11-23 20:25:35.404630: W tensorflow/stream_executor/platform/default/dso_loader.cc:64] Could not load dynamic library 'libnvinfer_plugin.so.7'; dlerror: libnvinfer_plugin.so.7: cannot open shared object file: No such file or directory\n",
      "2023-11-23 20:25:35.404638: W tensorflow/compiler/tf2tensorrt/utils/py_utils.cc:38] TF-TRT Warning: Cannot dlopen some TensorRT libraries. If you would like to use Nvidia GPU with TensorRT, please make sure the missing libraries mentioned above are installed properly.\n"
     ]
    }
   ],
   "source": [
    "import pandas as pd\n",
    "import matplotlib.pyplot as plt\n",
    "\n",
    "# Distilbert for sentiment analysis\n",
    "# https://huggingface.co/bhadresh-savani/distilbert-base-uncased-emotion?text=I+feel+a+bit+let+down\n",
    "from transformers import pipeline\n",
    "\n",
    "from tqdm import tqdm # for prgress bar"
   ]
  },
  {
   "attachments": {},
   "cell_type": "markdown",
   "metadata": {},
   "source": [
    "## Loading Comments and Submissions Data\n",
    "We saw that loading in the text comments dataset requires a lot of memory. To help manage memory usage\n",
    "when dealing with large datasets like this we decided to chunk. "
   ]
  },
  {
   "cell_type": "code",
   "execution_count": 2,
   "metadata": {},
   "outputs": [
    {
     "name": "stderr",
     "output_type": "stream",
     "text": [
      "/home/ava/.local/lib/python3.9/site-packages/IPython/core/interactiveshell.py:3378: DtypeWarning: Columns (2,4) have mixed types.Specify dtype option on import or set low_memory=False.\n",
      "  exec(code_obj, self.user_global_ns, self.user_ns)\n"
     ]
    }
   ],
   "source": [
    "text_submissions_df = pd.read_csv(\"text_submissions.csv\")\n",
    "\n",
    "# to help manage memory usage for this large dataset we decided to chunk \n",
    "text_comments_df = pd.read_csv(\"text_comments.csv\", iterator=True, chunksize=1000000,lineterminator='\\n')"
   ]
  },
  {
   "attachments": {},
   "cell_type": "markdown",
   "metadata": {},
   "source": [
    "## Data Cleaning and Preprocessing\n",
    "Our data processing includes the following:\n",
    "- Bot Detection: The updated dataframes do not contain author names, but we have removed rows with `bot` or `mod` in the author names\n",
    "- Removed Comments: If a comment has body [deleted] or [removed] then, we remove those as well\n",
    "\n",
    "We will split `text_comments` to two time-based dataframes: before and after Feb 1, 2020, which similar to the paper is the date \n",
    "chosen for the start of the pandemic. Each of the 2 dataframes will have columns id, linkid, body, and created_utc. \n",
    "\n",
    "We note that it is be easier to deal with 2 smaller datasets but if necessary, we can concatenate the two daasets (pre-covid and during covid) later on."
   ]
  },
  {
   "cell_type": "code",
   "execution_count": 7,
   "metadata": {},
   "outputs": [
    {
     "name": "stdout",
     "output_type": "stream",
     "text": [
      "1 2 3 4 5 6 7 8 9 10 11 12 13 14 15 16 17 18 19 20 21 22 "
     ]
    }
   ],
   "source": [
    "lst = [] # will store dataframes after they have been pruned\n",
    "count = 0\n",
    "for chunk in text_comments_df: \n",
    "    count += 1\n",
    "    # add each chunk of txt_comments to a df and append it to a list\n",
    "    temp = chunk[[\"id\", \"link_id\", \"author\", \"body\", \"created_utc\"]]\n",
    "    lst.append(temp)\n",
    "    print(count, end=' ')\n",
    "    \n",
    "# time to run: 5 mins"
   ]
  },
  {
   "cell_type": "code",
   "execution_count": null,
   "metadata": {},
   "outputs": [],
   "source": [
    "temp = pd.DataFrame() # temporary stores dataframes for each chunk (not changing the data) \n",
    "lst = [] # stores dataframes after they have been pruned\n",
    "count = 0\n",
    "for chunk in text_comments_df: \n",
    "    print(count)\n",
    "    # Add each chunk of txt_comments to a df and append it to a list\n",
    "    temp = pd.DataFrame()\n",
    "    temp = chunk[[\"id\", \"link_id\", \"author\", \"body\", \"created_utc\"]]\n",
    "    lst.append(temp)\n",
    "    count+=1\n",
    "\n",
    "# time to run: 5 mins"
   ]
  },
  {
   "attachments": {},
   "cell_type": "markdown",
   "metadata": {},
   "source": [
    "### Bot Detection and Removed Comments"
   ]
  },
  {
   "cell_type": "code",
   "execution_count": 3,
   "metadata": {},
   "outputs": [],
   "source": [
    "# TODO (Q): Bot Detection not necessary for Posts? just for text_comments?"
   ]
  },
  {
   "cell_type": "code",
   "execution_count": null,
   "metadata": {},
   "outputs": [],
   "source": [
    "lst_shape = [] # stores how many rows are in each small dataframe - so that we can keep track that we're not missing rows by the end\n",
    "\n",
    "# Modify each dataframe in lst by removing deleted comments, removing comments from bots, dropping the author column, and changing created_utc into int type\n",
    "for i in range(len(lst)):\n",
    "    print(i, end=' ')\n",
    "\n",
    "    # remove usernames that indicate it's a bot and comments that are [removed] and [deleted]\n",
    "    lst[i] = lst[i][~((lst[i][\"body\"] == \"[removed]\") | (lst[i][\"body\"] == \"[deleted]\") | lst[i][\"author\"].str.lower().str.contains(\"bot|mod\"))]\n",
    "    # we're not keeping author column\n",
    "    lst[i] = lst[i].drop(columns=['author'])\n",
    "    # transform date into int\n",
    "    lst[i]['created_utc'] = lst[i]['created_utc'].astype(int)\n",
    "    lst_shape.append(lst[i].shape[0])\n",
    "    # time: 10m\n",
    "    "
   ]
  },
  {
   "cell_type": "code",
   "execution_count": null,
   "metadata": {},
   "outputs": [],
   "source": [
    "sum(lst_shape) # the total number of comments after pruning: 36449566"
   ]
  },
  {
   "attachments": {},
   "cell_type": "markdown",
   "metadata": {},
   "source": [
    "### Splitting comments to pre-pandemic and pandemic times"
   ]
  },
  {
   "cell_type": "code",
   "execution_count": null,
   "metadata": {},
   "outputs": [],
   "source": [
    "# dataframes that will only have comments split based on Feb 01, 2022 UTC\n",
    "# start of the pandemic: February 1, 2020  \n",
    "\n",
    "lst_precovid, lst_postcovid = [], []\n",
    "start_of_covid = 1580515200 # created_at is a UNIX timestamp. Feb 1, 2020 00:00:00 UTC = 1580515200\n",
    "\n",
    "# for each dataframe in lst, create two dataframes that has comments based on dates and append it to the correct list\n",
    "for i in range(len(lst)): \n",
    "    print(i, end=' ')\n",
    "    # Pre-covid \n",
    "    lst_precovid.append(lst[i][lst[i][\"created_utc\"] < start_of_covid])\n",
    "    # Post-covid \n",
    "    lst_postcovid.append(lst[i][lst[i][\"created_utc\"] >= start_of_covid])\n",
    "\n",
    "# time to run: 7-10m"
   ]
  },
  {
   "cell_type": "code",
   "execution_count": null,
   "metadata": {},
   "outputs": [],
   "source": [
    "# concatenate all dataframes that have comments before Feb 1, 2020 UTC into 1 dataframe\n",
    "df_comments_precovid = pd.concat(lst_precovid) # time to run: 2-3m\n",
    "\n",
    "# Concatenate all dataframes that have comments on or after Feb 1, 2020 UTC into 1 dataframe\n",
    "df_comments_postcovid = pd.concat(lst_postcovid) # time to run: 3min"
   ]
  },
  {
   "cell_type": "code",
   "execution_count": null,
   "metadata": {},
   "outputs": [],
   "source": [
    "# TODO remove?\n",
    "# print(df_comments_precovid.head(1))\n",
    "# print(df_comments_postcovid.shape) # (22814508, 4)\n",
    "# check the sizes are the same: 40721549 index. 40721550 rows total\n",
    "# 22814508+13635058 = sum(lst_shape) = 36449566\n",
    "# df_comments_pre.to_csv('df_comments_pre.csv') # time: \n",
    "# df_comments_postcovid.to_csv('data/df_comments_post.csv') # time: "
   ]
  },
  {
   "attachments": {},
   "cell_type": "markdown",
   "metadata": {},
   "source": [
    "### Other pre-processing for submissions"
   ]
  },
  {
   "cell_type": "code",
   "execution_count": 4,
   "metadata": {},
   "outputs": [],
   "source": [
    "# Dropping columns that aren't useful for us in order to make the dataframes smaller\n",
    "text_submissions_df=text_submissions_df.drop(columns=['score'])\n",
    "\n",
    "# Drop submissions with title or text that is empty or na\n",
    "text_submissions_df.drop(text_submissions_df[text_submissions_df['title'].isna() | (text_submissions_df['title'] == '')].index, inplace=True)\n",
    "text_submissions_df.drop(text_submissions_df[text_submissions_df['selftext'].isna() | (text_submissions_df['selftext'] == '')].index, inplace=True)\n",
    "# text_submissions_df.dropna(subset=['title'], inplace=True) # Drop na or empty titles\n",
    "\n",
    "# Drop this row because it has an invalid date and other columns are nan\n",
    "text_submissions_df=text_submissions_df[~(text_submissions_df['created_utc'] == \"CPTSD\")]\n",
    "\n",
    "text_submissions_df['created_utc'] = text_submissions_df['created_utc'].astype(int)"
   ]
  },
  {
   "attachments": {},
   "cell_type": "markdown",
   "metadata": {},
   "source": [
    "### Splitting submissions pre-pandemic and pandemic times"
   ]
  },
  {
   "cell_type": "code",
   "execution_count": 5,
   "metadata": {},
   "outputs": [],
   "source": [
    "# start of the pandemic as of February 1, 2020\n",
    "# created_at is a UNIX timestamp. Feb 1, 2020 00:00:00 UTC = 1580515200\n",
    "start_of_pandemic = 1580515200\n",
    "text_submissions_df_pre = text_submissions_df[text_submissions_df[\"created_utc\"] < start_of_pandemic]\n",
    "text_submissions_df_post = text_submissions_df[text_submissions_df[\"created_utc\"] >= start_of_pandemic]"
   ]
  },
  {
   "cell_type": "code",
   "execution_count": 2,
   "metadata": {},
   "outputs": [],
   "source": [
    "# Downloading the 4 updated cvs which have cleaned up the data and split the comments and submissions csv files into 2 \n",
    "# because they are smaller files, thus easier to load up and deal with\n",
    "# text_submissions_df_pre.to_csv('data/text_submissions_pre.csv')\n",
    "# text_submissions_df_post.to_csv(\"data/text_submissions_post.csv\")"
   ]
  },
  {
   "attachments": {},
   "cell_type": "markdown",
   "metadata": {},
   "source": [
    "### Detecting COVID related posts\n",
    "We detect submissions related to covid by searching in the their title for covid related words (with no case sensitivity)."
   ]
  },
  {
   "cell_type": "code",
   "execution_count": 24,
   "metadata": {},
   "outputs": [
    {
     "data": {
      "text/html": [
       "<div>\n",
       "<style scoped>\n",
       "    .dataframe tbody tr th:only-of-type {\n",
       "        vertical-align: middle;\n",
       "    }\n",
       "\n",
       "    .dataframe tbody tr th {\n",
       "        vertical-align: top;\n",
       "    }\n",
       "\n",
       "    .dataframe thead th {\n",
       "        text-align: right;\n",
       "    }\n",
       "</style>\n",
       "<table border=\"1\" class=\"dataframe\">\n",
       "  <thead>\n",
       "    <tr style=\"text-align: right;\">\n",
       "      <th></th>\n",
       "      <th>id</th>\n",
       "      <th>author</th>\n",
       "      <th>created_utc</th>\n",
       "      <th>domain</th>\n",
       "      <th>is_self</th>\n",
       "      <th>selftext</th>\n",
       "      <th>title</th>\n",
       "      <th>subreddit</th>\n",
       "    </tr>\n",
       "  </thead>\n",
       "  <tbody>\n",
       "    <tr>\n",
       "      <th>21</th>\n",
       "      <td>t3_krer7q</td>\n",
       "      <td>[deleted]</td>\n",
       "      <td>1609902052</td>\n",
       "      <td>reddit.com</td>\n",
       "      <td>False</td>\n",
       "      <td>[deleted]</td>\n",
       "      <td>James Charles calls out youtuber JennxPenn for...</td>\n",
       "      <td>BeautyGuruChatter</td>\n",
       "    </tr>\n",
       "    <tr>\n",
       "      <th>44</th>\n",
       "      <td>t3_fjm72g</td>\n",
       "      <td>ButterscotchFog</td>\n",
       "      <td>1584370462</td>\n",
       "      <td>i.redd.it</td>\n",
       "      <td>False</td>\n",
       "      <td>NaN</td>\n",
       "      <td>Shout out to creators whose content continues ...</td>\n",
       "      <td>BeautyGuruChatter</td>\n",
       "    </tr>\n",
       "    <tr>\n",
       "      <th>45</th>\n",
       "      <td>t3_fko0g4</td>\n",
       "      <td>[deleted]</td>\n",
       "      <td>1584530758</td>\n",
       "      <td>i.redd.it</td>\n",
       "      <td>False</td>\n",
       "      <td>[deleted]</td>\n",
       "      <td>(UPDATE) Mykie/GlamandGore addressing her firs...</td>\n",
       "      <td>BeautyGuruChatter</td>\n",
       "    </tr>\n",
       "    <tr>\n",
       "      <th>103</th>\n",
       "      <td>t3_jzy1ls</td>\n",
       "      <td>[deleted]</td>\n",
       "      <td>1606191804</td>\n",
       "      <td>self.BeautyGuruChatter</td>\n",
       "      <td>True</td>\n",
       "      <td>[removed]</td>\n",
       "      <td>I’m just Curious as to why BGs, celebs, models...</td>\n",
       "      <td>BeautyGuruChatter</td>\n",
       "    </tr>\n",
       "    <tr>\n",
       "      <th>126</th>\n",
       "      <td>t3_j1dj17</td>\n",
       "      <td>[deleted]</td>\n",
       "      <td>1601305059</td>\n",
       "      <td>jezebel.com</td>\n",
       "      <td>False</td>\n",
       "      <td>[deleted]</td>\n",
       "      <td>Jeffree Star Took Covid-19 Loans, Months After...</td>\n",
       "      <td>BeautyGuruChatter</td>\n",
       "    </tr>\n",
       "  </tbody>\n",
       "</table>\n",
       "</div>"
      ],
      "text/plain": [
       "            id           author  created_utc                  domain is_self  \\\n",
       "21   t3_krer7q        [deleted]   1609902052              reddit.com   False   \n",
       "44   t3_fjm72g  ButterscotchFog   1584370462               i.redd.it   False   \n",
       "45   t3_fko0g4        [deleted]   1584530758               i.redd.it   False   \n",
       "103  t3_jzy1ls        [deleted]   1606191804  self.BeautyGuruChatter    True   \n",
       "126  t3_j1dj17        [deleted]   1601305059             jezebel.com   False   \n",
       "\n",
       "      selftext                                              title  \\\n",
       "21   [deleted]  James Charles calls out youtuber JennxPenn for...   \n",
       "44         NaN  Shout out to creators whose content continues ...   \n",
       "45   [deleted]  (UPDATE) Mykie/GlamandGore addressing her firs...   \n",
       "103  [removed]  I’m just Curious as to why BGs, celebs, models...   \n",
       "126  [deleted]  Jeffree Star Took Covid-19 Loans, Months After...   \n",
       "\n",
       "             subreddit  \n",
       "21   BeautyGuruChatter  \n",
       "44   BeautyGuruChatter  \n",
       "45   BeautyGuruChatter  \n",
       "103  BeautyGuruChatter  \n",
       "126  BeautyGuruChatter  "
      ]
     },
     "execution_count": 24,
     "metadata": {},
     "output_type": "execute_result"
    }
   ],
   "source": [
    "covid_related_words = ['pandemic', 'covid']\n",
    "search_pattern = '|'.join(covid_related_words)\n",
    "covid_submissions = text_submissions_df[text_submissions_df['title'].str.contains(search_pattern, case=False)]\n",
    "\n",
    "# printing the title of covid related posts\n",
    "covid_submissions.head(5)"
   ]
  },
  {
   "attachments": {},
   "cell_type": "markdown",
   "metadata": {},
   "source": [
    "## Exploratory Analysis"
   ]
  },
  {
   "attachments": {},
   "cell_type": "markdown",
   "metadata": {},
   "source": [
    "The pipeline is there.. no need to change it a lot\n",
    "\n",
    "Explain how this is good"
   ]
  },
  {
   "attachments": {},
   "cell_type": "markdown",
   "metadata": {},
   "source": [
    "### Example of using distilbert\n",
    "explain a bit"
   ]
  },
  {
   "cell_type": "code",
   "execution_count": 6,
   "metadata": {},
   "outputs": [
    {
     "name": "stderr",
     "output_type": "stream",
     "text": [
      "/home/ava/.local/lib/python3.9/site-packages/transformers/pipelines/text_classification.py:105: UserWarning: `return_all_scores` is now deprecated,  if want a similar functionality use `top_k=None` instead of `return_all_scores=True` or `top_k=1` instead of `return_all_scores=False`.\n",
      "  warnings.warn(\n"
     ]
    },
    {
     "data": {
      "text/plain": [
       "[[{'label': 'sadness', 'score': 0.007511448580771685},\n",
       "  {'label': 'joy', 'score': 0.8325576186180115},\n",
       "  {'label': 'love', 'score': 0.014407153241336346},\n",
       "  {'label': 'anger', 'score': 0.13556727766990662},\n",
       "  {'label': 'fear', 'score': 0.008320360444486141},\n",
       "  {'label': 'surprise', 'score': 0.0016362066380679607}]]"
      ]
     },
     "execution_count": 6,
     "metadata": {},
     "output_type": "execute_result"
    }
   ],
   "source": [
    "# sample - delete later\n",
    "classifier = pipeline(\"text-classification\",model='bhadresh-savani/distilbert-base-uncased-emotion', return_all_scores=True)\n",
    "prediction = classifier([\"I love using transformers.\", \"I hate you so much\"],)\n",
    "prediction = classifier(\"I love using transformers.\",)\n",
    "prediction"
   ]
  },
  {
   "attachments": {},
   "cell_type": "markdown",
   "metadata": {},
   "source": [
    "### Average submission sentiment score pre-pandemic\n",
    "We want to find the average score (0-1) for each sentiment (sadness, joy, love, anger, fear, surprise) for submissions and comments for posts pre-pandemic. "
   ]
  },
  {
   "cell_type": "code",
   "execution_count": 7,
   "metadata": {},
   "outputs": [
    {
     "name": "stderr",
     "output_type": "stream",
     "text": [
      "/tmp/ipykernel_5241/2614509663.py:15: SettingWithCopyWarning: \n",
      "A value is trying to be set on a copy of a slice from a DataFrame.\n",
      "Try using .loc[row_indexer,col_indexer] = value instead\n",
      "\n",
      "See the caveats in the documentation: https://pandas.pydata.org/pandas-docs/stable/user_guide/indexing.html#returning-a-view-versus-a-copy\n",
      "  text_submissions_df_pre_subset[emotion] = float('NaN')\n",
      "Processing: 4252.75%: 100%|██████████| 33518/33518 [15:05<00:00, 37.00it/s]\n"
     ]
    }
   ],
   "source": [
    "# TODO for now we do it for submissions - figure it out for comments as well? - takes multiple hours\n",
    "# TODO even for submissions selftext it's taken 10-11 hours.. so just doing it with title right now\n",
    "# TODO also there's a limit to the characters for this classifier\n",
    "\n",
    "# TODO write about selftext is too long for classifier and we want split it and maybe take an avg of the scores for each\n",
    "# TODO split? and also do this for comments for each submissions along with submission selftext\n",
    "\n",
    "# for now take 5% of text_submissions_df_pre (100% of the data takes >10 hours)\n",
    "ten_percent = int(len(text_submissions_df_pre) * 0.05)\n",
    "text_submissions_df_pre_subset = text_submissions_df_pre.head(ten_percent)\n",
    "\n",
    "# add new columns in submissions dataframe for each emotion and set all to NaN\n",
    "emotions = ['sadness', 'joy', 'love', 'anger', 'fear', 'surprise']\n",
    "for emotion in emotions:\n",
    "    text_submissions_df_pre_subset[emotion] = float('NaN')\n",
    "\n",
    "def get_scores_and_update(row):\n",
    "    scores = classifier(row['title'])[0] # selftext\n",
    "    for score in scores:\n",
    "        emotion = score['label']\n",
    "        row[emotion] = score['score']\n",
    "    return row\n",
    "  \n",
    "# extract score for each emotion and set the score to the particular column\n",
    "total_rows = len(text_submissions_df_pre_subset)\n",
    "with tqdm(total=total_rows) as pbar:\n",
    "  for index, row in text_submissions_df_pre_subset.iterrows():\n",
    "      scores = classifier(row['title'])[0]\n",
    "      for score in scores:\n",
    "          emotion = score['label']\n",
    "          text_submissions_df_pre_subset.at[index, emotion] = score['score']\n",
    "      \n",
    "      pbar.update(1)\n",
    "      pbar.set_description(f'Processing: {((index + 1) / total_rows) * 100:.2f}%')  # Display progress percentage"
   ]
  },
  {
   "cell_type": "code",
   "execution_count": 8,
   "metadata": {},
   "outputs": [
    {
     "name": "stdout",
     "output_type": "stream",
     "text": [
      "average sadness score: 0.08333218761260267\n",
      "average joy score: 0.39390795732316913\n",
      "average love score: 0.014010731028408201\n",
      "average anger score: 0.35626362880260765\n",
      "average fear score: 0.14184019473937085\n",
      "average surprise score: 0.0106453003270222\n"
     ]
    }
   ],
   "source": [
    "# average of the 5% of the titles of all posts pre-pandemic\n",
    "emotion_to_avg_score = {}\n",
    "for e in emotions:\n",
    "  emotion_to_avg_score[e] = text_submissions_df_pre_subset[e].mean()\n",
    "  print(f\"average {e} score: {emotion_to_avg_score[e]}\")"
   ]
  },
  {
   "attachments": {},
   "cell_type": "markdown",
   "metadata": {},
   "source": [
    "### Frequency distribution\n",
    "Now that we've calculated the average sentiment score for a pre-pandemic post for every sentiment, \n",
    "we want to visualize how many submissions and comments have sentiment score above and below the average\n",
    "sentiment scores.\n",
    "\n",
    "NOTE: For now we'll look at submissions only because we have yet to find an efficient way to process the full\n",
    "text datasets. The pipeline won't need much changing then."
   ]
  },
  {
   "cell_type": "code",
   "execution_count": 9,
   "metadata": {},
   "outputs": [
    {
     "name": "stdout",
     "output_type": "stream",
     "text": [
      "above average counts: {'sadness': 4677, 'joy': 14169, 'love': 2295, 'anger': 14090, 'fear': 9499, 'surprise': 2944}\n",
      "below average counts: {'sadness': 28841, 'joy': 19349, 'love': 31223, 'anger': 19428, 'fear': 24019, 'surprise': 30574}\n"
     ]
    }
   ],
   "source": [
    "# store counts of submissions that have below and above the average sentiment scores\n",
    "above_avg, below_avg = {}, {}\n",
    "submissions_subset = text_submissions_df_pre_subset\n",
    "\n",
    "for e in emotions:\n",
    "    avg_emotion_score = emotion_to_avg_score[e]\n",
    "    \n",
    "    above_count = submissions_subset[e][submissions_subset[e] > avg_emotion_score].count()\n",
    "    below_count = submissions_subset[e][submissions_subset[e] < avg_emotion_score].count()\n",
    "    \n",
    "    above_avg[e] = above_count\n",
    "    below_avg[e] = below_count\n",
    "\n",
    "print('above average counts:', above_avg)\n",
    "print('below average counts:', below_avg)"
   ]
  },
  {
   "cell_type": "code",
   "execution_count": 21,
   "metadata": {},
   "outputs": [
    {
     "data": {
      "image/png": "[encoded data removed]",
      "text/plain": [
       "<Figure size 640x480 with 1 Axes>"
      ]
     },
     "metadata": {},
     "output_type": "display_data"
    }
   ],
   "source": [
    "plt.bar(above_avg.keys(), above_avg.values(), label='above sentiment average score', width=.6)\n",
    "plt.bar(below_avg.keys(), below_avg.values(), bottom=list(above_avg.values()), label='below sentiment average score', width=.6)\n",
    "\n",
    "plt.xlabel('sentiments')\n",
    "plt.ylabel('count')\n",
    "plt.title('counts above and below the average sentiment score for a pre-pandemic post')\n",
    "plt.legend()\n",
    "plt.show()"
   ]
  },
  {
   "attachments": {},
   "cell_type": "markdown",
   "metadata": {},
   "source": [
    "We can also make a scatter plot of the sentiment scores to see the correlations between sentiments."
   ]
  }
 ],
 "metadata": {
  "kernelspec": {
   "display_name": "base",
   "language": "python",
   "name": "python3"
  },
  "language_info": {
   "codemirror_mode": {
    "name": "ipython",
    "version": 3
   },
   "file_extension": ".py",
   "mimetype": "text/x-python",
   "name": "python",
   "nbconvert_exporter": "python",
   "pygments_lexer": "ipython3",
   "version": "3.9.13"
  },
  "orig_nbformat": 4,
  "vscode": {
   "interpreter": {
    "hash": "908f734d8ce94021814a9781fc9ca0ce65be7da4bec4c909ba0a7fc993e0086a"
   }
  }
 },
 "nbformat": 4,
 "nbformat_minor": 2
}
